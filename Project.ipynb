{
    "metadata": {
        "kernelspec": {
            "name": "python3",
            "display_name": "Python 3 (ipykernel)",
            "language": "python"
        }
    },
    "nbformat": 4,
    "nbformat_minor": 2,
    "cells": [
        {
            "cell_type": "code",
            "execution_count": 1,
            "metadata": {},
            "outputs": [],
            "source": [
                "import pandas as pd\n",
                "import numpy as np\n",
                "import matplotlib.pyplot as plt\n",
                "import numpy as np\n",
                "%matplotlib inline"
            ]
        },
        {
            "cell_type": "code",
            "execution_count": 2,
            "metadata": {},
            "outputs": [
                {
                    "data": {
                        "text/html": "\u003cdiv\u003e\n\u003cstyle scoped\u003e\n    .dataframe tbody tr th:only-of-type {\n        vertical-align: middle;\n    }\n\n    .dataframe tbody tr th {\n        vertical-align: top;\n    }\n\n    .dataframe thead th {\n        text-align: right;\n    }\n\u003c/style\u003e\n\u003ctable border=\"1\" class=\"dataframe\"\u003e\n  \u003cthead\u003e\n    \u003ctr style=\"text-align: right;\"\u003e\n      \u003cth\u003e\u003c/th\u003e\n      \u003cth\u003eACT composite score\u003c/th\u003e\n      \u003cth\u003eSAT total score\u003c/th\u003e\n      \u003cth\u003eparental level of education\u003c/th\u003e\n      \u003cth\u003eparental income\u003c/th\u003e\n      \u003cth\u003ehigh school gpa\u003c/th\u003e\n      \u003cth\u003ecollege gpa\u003c/th\u003e\n      \u003cth\u003eyears to graduate\u003c/th\u003e\n    \u003c/tr\u003e\n  \u003c/thead\u003e\n  \u003ctbody\u003e\n    \u003ctr\u003e\n      \u003cth\u003e0\u003c/th\u003e\n      \u003ctd\u003e30\u003c/td\u003e\n      \u003ctd\u003e2206\u003c/td\u003e\n      \u003ctd\u003emaster's degree\u003c/td\u003e\n      \u003ctd\u003e94873\u003c/td\u003e\n      \u003ctd\u003e4.0\u003c/td\u003e\n      \u003ctd\u003e3.8\u003c/td\u003e\n      \u003ctd\u003e3\u003c/td\u003e\n    \u003c/tr\u003e\n    \u003ctr\u003e\n      \u003cth\u003e1\u003c/th\u003e\n      \u003ctd\u003e26\u003c/td\u003e\n      \u003ctd\u003e1953\u003c/td\u003e\n      \u003ctd\u003esome college\u003c/td\u003e\n      \u003ctd\u003e42767\u003c/td\u003e\n      \u003ctd\u003e3.6\u003c/td\u003e\n      \u003ctd\u003e2.7\u003c/td\u003e\n      \u003ctd\u003e9\u003c/td\u003e\n    \u003c/tr\u003e\n    \u003ctr\u003e\n      \u003cth\u003e2\u003c/th\u003e\n      \u003ctd\u003e28\u003c/td\u003e\n      \u003ctd\u003e2115\u003c/td\u003e\n      \u003ctd\u003esome high school\u003c/td\u003e\n      \u003ctd\u003e46316\u003c/td\u003e\n      \u003ctd\u003e4.0\u003c/td\u003e\n      \u003ctd\u003e3.3\u003c/td\u003e\n      \u003ctd\u003e5\u003c/td\u003e\n    \u003c/tr\u003e\n    \u003ctr\u003e\n      \u003cth\u003e3\u003c/th\u003e\n      \u003ctd\u003e33\u003c/td\u003e\n      \u003ctd\u003e2110\u003c/td\u003e\n      \u003ctd\u003esome high school\u003c/td\u003e\n      \u003ctd\u003e52370\u003c/td\u003e\n      \u003ctd\u003e4.0\u003c/td\u003e\n      \u003ctd\u003e3.5\u003c/td\u003e\n      \u003ctd\u003e4\u003c/td\u003e\n    \u003c/tr\u003e\n    \u003ctr\u003e\n      \u003cth\u003e4\u003c/th\u003e\n      \u003ctd\u003e30\u003c/td\u003e\n      \u003ctd\u003e2168\u003c/td\u003e\n      \u003ctd\u003ebachelor's degree\u003c/td\u003e\n      \u003ctd\u003e92665\u003c/td\u003e\n      \u003ctd\u003e4.0\u003c/td\u003e\n      \u003ctd\u003e3.6\u003c/td\u003e\n      \u003ctd\u003e4\u003c/td\u003e\n    \u003c/tr\u003e\n  \u003c/tbody\u003e\n\u003c/table\u003e\n\u003c/div\u003e",
                        "text/plain": "   ACT composite score  SAT total score parental level of education  \\\n0                   30             2206             master's degree   \n1                   26             1953                some college   \n2                   28             2115            some high school   \n3                   33             2110            some high school   \n4                   30             2168           bachelor's degree   \n\n   parental income  high school gpa  college gpa  years to graduate  \n0            94873              4.0          3.8                  3  \n1            42767              3.6          2.7                  9  \n2            46316              4.0          3.3                  5  \n3            52370              4.0          3.5                  4  \n4            92665              4.0          3.6                  4  "
                    },
                    "execution_count": 2,
                    "metadata": {},
                    "output_type": "execute_result"
                }
            ],
            "source": [
                "df = pd.read_csv(\"graduation_rate.csv\");\n",
                "df.head()"
            ]
        },
        {
            "cell_type": "code",
            "execution_count": 3,
            "metadata": {},
            "outputs": [
                {
                    "data": {
                        "text/plain": "Index(['ACTscore', 'SATscore', 'ParentLvlEducation', 'ParentIncome', 'HSGPA',\n       'CollegeGPA', 'YearsToGraduate'],\n      dtype='object')"
                    },
                    "execution_count": 3,
                    "metadata": {},
                    "output_type": "execute_result"
                }
            ],
            "source": [
                "df.columns = df.columns.str.replace('', '_')\n",
                "df.columns = ['ACTscore', 'SATscore', 'ParentLvlEducation', 'ParentIncome', 'HSGPA', 'CollegeGPA', 'YearsToGraduate']\n",
                "df.columns"
            ]
        },
        {
            "cell_type": "code",
            "execution_count": 4,
            "metadata": {},
            "outputs": [
                {
                    "data": {
                        "text/plain": "array([6, 3, 1, 5, 4, 2])"
                    },
                    "execution_count": 4,
                    "metadata": {},
                    "output_type": "execute_result"
                }
            ],
            "source": [
                "df['ParentLvlEducation'] = df['ParentLvlEducation'].replace(['some high school'], 1)\n",
                "df['ParentLvlEducation'] = df['ParentLvlEducation'].replace(['high school'], 2)\n",
                "df['ParentLvlEducation'] = df['ParentLvlEducation'].replace(['some college'], 3)\n",
                "df['ParentLvlEducation'] = df['ParentLvlEducation'].replace(['associate\\'s degree'], 4)\n",
                "df['ParentLvlEducation'] = df['ParentLvlEducation'].replace(['bachelor\\'s degree'], 5)\n",
                "df['ParentLvlEducation'] = df['ParentLvlEducation'].replace(['master\\'s degree'], 6)\n",
                "df['ParentLvlEducation'].unique()"
            ]
        },
        {
            "cell_type": "code",
            "execution_count": 8,
            "metadata": {},
            "outputs": [],
            "source": [
                "x_data = df[['CollegeGPA', 'YearsToGraduate']];\n",
                "y_data = df['ParentIncome'];\n",
                "\n",
                "from sklearn.model_selection import train_test_split\n",
                "x_train1, x_test1, y_train1, y_test1 = train_test_split(x_data, y_data, test_size=0.2)"
            ]
        },
        {
            "cell_type": "code",
            "execution_count": 9,
            "metadata": {},
            "outputs": [
                {
                    "data": {
                        "text/html": "\u003cdiv\u003e\n\u003cstyle scoped\u003e\n    .dataframe tbody tr th:only-of-type {\n        vertical-align: middle;\n    }\n\n    .dataframe tbody tr th {\n        vertical-align: top;\n    }\n\n    .dataframe thead th {\n        text-align: right;\n    }\n\u003c/style\u003e\n\u003ctable border=\"1\" class=\"dataframe\"\u003e\n  \u003cthead\u003e\n    \u003ctr style=\"text-align: right;\"\u003e\n      \u003cth\u003e\u003c/th\u003e\n      \u003cth\u003eCoeff\u003c/th\u003e\n    \u003c/tr\u003e\n  \u003c/thead\u003e\n  \u003ctbody\u003e\n    \u003ctr\u003e\n      \u003cth\u003eCollegeGPA\u003c/th\u003e\n      \u003ctd\u003e38839.085359\u003c/td\u003e\n    \u003c/tr\u003e\n    \u003ctr\u003e\n      \u003cth\u003eYearsToGraduate\u003c/th\u003e\n      \u003ctd\u003e-69.353179\u003c/td\u003e\n    \u003c/tr\u003e\n  \u003c/tbody\u003e\n\u003c/table\u003e\n\u003c/div\u003e",
                        "text/plain": "                        Coeff\nCollegeGPA       38839.085359\nYearsToGraduate    -69.353179"
                    },
                    "execution_count": 9,
                    "metadata": {},
                    "output_type": "execute_result"
                }
            ],
            "source": [
                "from sklearn.linear_model import LinearRegression\n",
                "LRModel1 = LinearRegression()\n",
                "LRModel1.fit(x_train1, y_train1)\n",
                "pd.DataFrame(LRModel1.coef_, x_data.columns, columns = ['Coeff'])"
            ]
        },
        {
            "cell_type": "code",
            "execution_count": 10,
            "metadata": {},
            "outputs": [
                {
                    "data": {
                        "text/plain": "Text(0.5, 1.0, 'Linear Regression Model')"
                    },
                    "execution_count": 10,
                    "metadata": {},
                    "output_type": "execute_result"
                },
                {
                    "data": {
                        "image/png": "[encoded data removed]",
                        "text/plain": "\u003cFigure size 432x288 with 1 Axes\u003e"
                    },
                    "metadata": {
                        "needs_background": "light"
                    },
                    "output_type": "display_data"
                }
            ],
            "source": [
                "predictions1 = LRModel1.predict(x_test1)\n",
                "plt.scatter(y_test1, predictions1)\n",
                "m, b = np.polyfit(y_test1, predictions1, 1)\n",
                "plt.plot(y_test1, m*y_test1+b)\n",
                "plt.title(\"Linear Regression Model\")"
            ]
        },
        {
            "cell_type": "code",
            "execution_count": 11,
            "metadata": {},
            "outputs": [
                {
                    "data": {
                        "text/plain": "14220.486451175948"
                    },
                    "execution_count": 11,
                    "metadata": {},
                    "output_type": "execute_result"
                }
            ],
            "source": [
                "from sklearn import metrics\n",
                "metrics.mean_absolute_error(y_test1, predictions1)"
            ]
        },
        {
            "cell_type": "code",
            "execution_count": 12,
            "metadata": {},
            "outputs": [
                {
                    "data": {
                        "text/plain": "323847752.3796005"
                    },
                    "execution_count": 12,
                    "metadata": {},
                    "output_type": "execute_result"
                }
            ],
            "source": [
                "metrics.mean_squared_error(y_test1, predictions1)"
            ]
        },
        {
            "cell_type": "code",
            "execution_count": 13,
            "metadata": {},
            "outputs": [
                {
                    "data": {
                        "text/plain": "17995.77040250293"
                    },
                    "execution_count": 13,
                    "metadata": {},
                    "output_type": "execute_result"
                }
            ],
            "source": [
                "np.sqrt(metrics.mean_squared_error(y_test1, predictions1))"
            ]
        },
        {
            "cell_type": "code",
            "execution_count": 14,
            "metadata": {},
            "outputs": [
                {
                    "data": {
                        "text/plain": "0.15348667480492584"
                    },
                    "execution_count": 14,
                    "metadata": {},
                    "output_type": "execute_result"
                }
            ],
            "source": [
                "LRModel1.score(x_test1, y_test1)"
            ]
        },
        {
            "cell_type": "code",
            "execution_count": 15,
            "metadata": {},
            "outputs": [],
            "source": [
                "from numpy import mean\n",
                "from numpy import std\n",
                "from numpy.random import randn\n",
                "from numpy.random import seed \n",
                "from matplotlib import pyplot \n",
                "\n",
                "data = df[['CollegeGPA', 'YearsToGraduate', 'ParentIncome']]\n",
                "cor = data.corr()"
            ]
        },
        {
            "cell_type": "code",
            "execution_count": 20,
            "metadata": {},
            "outputs": [
                {
                    "data": {
                        "text/plain": "0.2192897087193479"
                    },
                    "execution_count": 20,
                    "metadata": {},
                    "output_type": "execute_result"
                }
            ],
            "source": [
                "import math\n",
                "\n",
                "xz = cor.loc['CollegeGPA', 'YearsToGraduate']\n",
                "xy = cor.loc['CollegeGPA', 'ParentIncome']\n",
                "zy = cor.loc['YearsToGraduate', 'ParentIncome']\n",
                "\n",
                "Rxyz = math.sqrt((abs(xz**2) + abs(zy**2) - 2*xz*zy*xy) / (1-abs(xy**2)))\n",
                "R2 = Rxyz**2\n",
                "\n",
                "n = len(df)\n",
                "k = 2\n",
                "R2_adj = 1 - (((1-R2)*(n-1)) / (n-k-1))\n",
                "R2"
            ]
        },
        {
            "cell_type": "code",
            "execution_count": 0,
            "metadata": {},
            "outputs": [],
            "source": [
                ""
            ]
        }
    ]
}
