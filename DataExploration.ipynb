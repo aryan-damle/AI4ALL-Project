{
    "metadata": {
        "kernelspec": {
            "name": "python3",
            "display_name": "Python 3 (ipykernel)",
            "language": "python"
        }
    },
    "nbformat": 4,
    "nbformat_minor": 2,
    "cells": [
        {
            "attachments": {},
            "cell_type": "markdown",
            "metadata": {},
            "source": [
                "# **Project Teamwork Activity: Project Set up \u0026 Data Exploration**"
            ]
        },
        {
            "attachments": {},
            "cell_type": "markdown",
            "metadata": {},
            "source": [
                "## **Instructions**"
            ]
        },
        {
            "attachments": {},
            "cell_type": "markdown",
            "metadata": {},
            "source": [
                "Create a Saturn workspace in Ed STEM and complete the following:\n",
                "\n",
                "1. Add your teammates and student leader to the workspace. ✅\n",
                "2. Import your selected dataset into your notebook ✅\n",
                "3. Explore your data using functions to determine the number of rows, number of columns, data types in the columns and names of a few columns. ✅\n",
                "4. Create at least 3 data visualizations to help you understand your dataset. ✅\n",
                "5. Discussion in the your project notebook (add a text cell and answer the following questions): ✅\n",
                "    * Describe your dataset. How many rows are there? What are the names of some interesting columns? Which data type are the columns?\n",
                "    * What are a few predictions you would like to investigate?\n",
                "    * What do your initial data visualizations tell you about your data?\n",
                "    * What inconsistencies do you notice in your data? What are other columns (“features”) you would like to add to your data?"
            ]
        },
        {
            "attachments": {},
            "cell_type": "markdown",
            "metadata": {},
            "source": [
                "## **Import Packages**"
            ]
        },
        {
            "cell_type": "code",
            "execution_count": 97,
            "metadata": {},
            "outputs": [],
            "source": [
                "import pandas as pd\n",
                "import numpy as np\n",
                "import matplotlib.pyplot as plt\n",
                "import numpy as np\n",
                "%matplotlib inline\n",
                "\n",
                "from random import *"
            ]
        },
        {
            "attachments": {},
            "cell_type": "markdown",
            "metadata": {},
            "source": [
                "## **Load the Dataset**"
            ]
        },
        {
            "cell_type": "code",
            "execution_count": 98,
            "metadata": {},
            "outputs": [],
            "source": [
                "df = pd.read_csv(\"graduation_rate.csv\")\n",
                "df.head()"
            ]
        },
        {
            "attachments": {},
            "cell_type": "markdown",
            "metadata": {},
            "source": [
                "## **Determine Number of Rows**"
            ]
        },
        {
            "cell_type": "code",
            "execution_count": 99,
            "metadata": {},
            "outputs": [],
            "source": [
                "print(\"The number of rows: \", len(df))"
            ]
        },
        {
            "attachments": {},
            "cell_type": "markdown",
            "metadata": {},
            "source": [
                "## **Determine Number of Columns**"
            ]
        },
        {
            "cell_type": "code",
            "execution_count": 100,
            "metadata": {},
            "outputs": [],
            "source": [
                "print(\"The number of columns: \", len(df.columns))"
            ]
        },
        {
            "attachments": {},
            "cell_type": "markdown",
            "metadata": {},
            "source": [
                "## **Determine Data Types in the Columns**"
            ]
        },
        {
            "cell_type": "code",
            "execution_count": 101,
            "metadata": {},
            "outputs": [],
            "source": [
                "df.dtypes"
            ]
        },
        {
            "attachments": {},
            "cell_type": "markdown",
            "metadata": {},
            "source": [
                "## **Determine Names of a Few Columns**"
            ]
        },
        {
            "cell_type": "code",
            "execution_count": 102,
            "metadata": {},
            "outputs": [],
            "source": [
                "df.columns"
            ]
        },
        {
            "cell_type": "code",
            "execution_count": 103,
            "metadata": {},
            "outputs": [],
            "source": [
                "df.columns.tolist()"
            ]
        },
        {
            "attachments": {},
            "cell_type": "markdown",
            "metadata": {},
            "source": [
                "## **Create 3 Data Visualizations**"
            ]
        },
        {
            "cell_type": "code",
            "execution_count": 104,
            "metadata": {},
            "outputs": [],
            "source": [
                "df.plot.scatter(x='parental income', y='years to graduate', title='Graduation Rate Dataset')"
            ]
        },
        {
            "cell_type": "code",
            "execution_count": 105,
            "metadata": {},
            "outputs": [],
            "source": [
                "df.plot.scatter(x='parental income', y='college gpa', title='Graduation Rate Dataset')"
            ]
        },
        {
            "cell_type": "code",
            "execution_count": 106,
            "metadata": {},
            "outputs": [],
            "source": [
                "df.plot.scatter(x='parental income', y='parental level of education', title='Graduation Rate Dataset')"
            ]
        },
        {
            "attachments": {},
            "cell_type": "markdown",
            "metadata": {},
            "source": [
                "## **Discussion**"
            ]
        },
        {
            "attachments": {},
            "cell_type": "markdown",
            "metadata": {},
            "source": [
                "1. Describe your dataset. How many rows are there? What are the names of some interesting columns? Which data type are the columns?\n",
                "2. What are a few predictions you would like to investigate?\n",
                "3. What do your initial data visualizations tell you about your data?\n",
                "4. What inconsistencies do you notice in your data? What are other columns (“features”) you would like to add to your data?"
            ]
        },
        {
            "attachments": {},
            "cell_type": "markdown",
            "metadata": {},
            "source": [
                "### Answers:\n",
                "* The dataset consists of 1000 rows, and the names of some interesting columns are parental income, college gpa, and years to graduate. The data type of the columns consist of int, float and object.\n",
                "* Some predictions that I would live to investigate are taking into account parents education in the success of students in college.\n",
                "* The initial data visualization tell me there is correlation between certain columns.\n",
                "* The inconsistencies that I notice in my data is trying to perform some functions in the data. There will have to be renaming of column names since the space in the column names cause errors.\n",
                "\n",
                "\n",
                ""
            ]
        },
        {
            "attachments": {},
            "cell_type": "markdown",
            "metadata": {},
            "source": [
                "\n",
                "\n",
                "---\n",
                "\n",
                ""
            ]
        },
        {
            "attachments": {},
            "cell_type": "markdown",
            "metadata": {},
            "source": [
                "# **Project Teamwork Activity: Data Preparation**"
            ]
        },
        {
            "attachments": {},
            "cell_type": "markdown",
            "metadata": {},
            "source": [
                "## **Instructions**"
            ]
        },
        {
            "attachments": {},
            "cell_type": "markdown",
            "metadata": {},
            "source": [
                "Review the Data Preparation Resources and the materials shared in the workshops and then attempt the following:\n",
                "\n",
                "* Address missing values in your data ✅\n",
                "* Address any inconsistencies in your data ✅\n",
                "* Transform your data: scaling and/or aggregation ✅\n",
                "\n",
                "Discussion to be added to your notebook:\n",
                "\n",
                "- Summarize the data preparation techniques and steps your team applied to your data\n",
                "- What additional work does your team need to do in order to fully prepare your data?"
            ]
        },
        {
            "attachments": {},
            "cell_type": "markdown",
            "metadata": {},
            "source": [
                "## **Missing Values**"
            ]
        },
        {
            "cell_type": "code",
            "execution_count": 107,
            "metadata": {},
            "outputs": [],
            "source": [
                "print(\"Missing values:\", df.isnull().values.any())"
            ]
        },
        {
            "attachments": {},
            "cell_type": "markdown",
            "metadata": {},
            "source": [
                "## **Inconsistencies**"
            ]
        },
        {
            "cell_type": "code",
            "execution_count": 108,
            "metadata": {},
            "outputs": [],
            "source": [
                "df.columns = df.columns.str.replace(' ','_')\n",
                "df.columns = ['ACTscore', 'SATscore', 'ParentLvlEducation', 'ParentIncome', 'HSGPA', 'CollegeGPA', 'YearsToGraduate']\n",
                "df.head()\n",
                "#some high school = 1\n",
                "#high school = 2\n",
                "#some college = 3\n",
                "#associate's degree = 4\n",
                "#bachelor's degree = 5\n",
                "#master's degree = 6\n",
                "\n",
                "df.columns.unique()"
            ]
        },
        {
            "attachments": {},
            "cell_type": "markdown",
            "metadata": {},
            "source": [
                "## **Transform Data**"
            ]
        },
        {
            "cell_type": "code",
            "execution_count": 109,
            "metadata": {},
            "outputs": [],
            "source": [
                "df['ParentLvlEducation'] = df['ParentLvlEducation'].replace(['some high school'], 1)\n",
                "df['ParentLvlEducation'] = df['ParentLvlEducation'].replace(['high school'], 2)\n",
                "df['ParentLvlEducation'] = df['ParentLvlEducation'].replace(['some college'], 3)\n",
                "df['ParentLvlEducation'] = df['ParentLvlEducation'].replace(['associate\\'s degree'], 4)\n",
                "df['ParentLvlEducation'] = df['ParentLvlEducation'].replace(['bachelor\\'s degree'], 5)\n",
                "df['ParentLvlEducation'] = df['ParentLvlEducation'].replace(['master\\'s degree'], 6)\n",
                "df['ParentLvlEducation'].unique()"
            ]
        },
        {
            "attachments": {},
            "cell_type": "markdown",
            "metadata": {},
            "source": [
                "### **Aggregation**"
            ]
        },
        {
            "cell_type": "code",
            "execution_count": 110,
            "metadata": {},
            "outputs": [],
            "source": [
                "df.agg(['max', 'min'])"
            ]
        },
        {
            "attachments": {},
            "cell_type": "markdown",
            "metadata": {},
            "source": [
                "## **Discussion**"
            ]
        },
        {
            "attachments": {},
            "cell_type": "markdown",
            "metadata": {},
            "source": [
                "1. Summarize the data preparation techniques and steps your team applied to your data\n",
                "2. What additional work does your team need to do in order to fully prepare your data?"
            ]
        },
        {
            "attachments": {},
            "cell_type": "markdown",
            "metadata": {},
            "source": [
                "### Answers:\n",
                "\n",
                "* The data preparation techniques that we applied were changing inconsistencies in the names of the columns, and changing the data of the column Parent Level of Education to numbers.\n",
                "* The additional work that needs to be done is possibly adding more columns to represent certain groupings. "
            ]
        },
        {
            "attachments": {},
            "cell_type": "markdown",
            "metadata": {},
            "source": [
                "\n",
                "\n",
                "---\n",
                "\n",
                ""
            ]
        },
        {
            "attachments": {},
            "cell_type": "markdown",
            "metadata": {},
            "source": [
                "# **Project Teamwork Activity: Data Visualization**"
            ]
        },
        {
            "attachments": {},
            "cell_type": "markdown",
            "metadata": {},
            "source": [
                "Continue working in your workspace. Update your Saturn notebook to show at least one data visualization. Your team will share one data visualization during your biweekly student leader meeting and get feedback. During this meeting your peers will be asked the following questions about your data visualization:\n",
                "\n",
                "* What do you think the creator thought was important or the takeaway should be? \n",
                "* What caught your attention / what did you learn from the viz? \n",
                "* What visualizations attributes seemed effective to you for revealing the key message and why? \n",
                "* What visual attributes didn’t seem to work well and why?\n",
                "\n",
                "**Discussion in the your project notebook:**\n",
                "\n",
                "* Describe the data in words?\n",
                "* What is important to you about this dataset? What do you want the reader to take-away from looking at this visualization?\n",
                "* What visualization decisions did you make that are driven by the takeaway message? (scale, colors, mark type, text, lines to show thresholds, annotations, how data was grouped, etc)\n",
                "* Data is never \"pure\"; it always comes from somewhere. Is there anything you think is important to note about what might not have been captured in the dataset?"
            ]
        },
        {
            "attachments": {},
            "cell_type": "markdown",
            "metadata": {},
            "source": [
                "## **Bar Chart**"
            ]
        },
        {
            "cell_type": "code",
            "execution_count": 111,
            "metadata": {},
            "outputs": [],
            "source": [
                "df['ParentLvlEducation'].value_counts().sort_index().plot(kind='bar', stacked=True, color=['black', 'red', 'green', 'blue', 'cyan', 'yellow'])"
            ]
        },
        {
            "attachments": {},
            "cell_type": "markdown",
            "metadata": {},
            "source": [
                "## **Line Chart**"
            ]
        },
        {
            "cell_type": "code",
            "execution_count": 112,
            "metadata": {},
            "outputs": [],
            "source": [
                "df.info()\n",
                "bins = [0,20000,40000,60000,80000,100000,130000]\n",
                "labels = ['0-20k','20k-40k','40k-60k','60k-80k','80k-100k','100k-130k']\n",
                "df['IncomeCategory'] = pd.cut(df['ParentIncome'],bins,labels = labels)\n",
                "\n",
                "bins2 = [2.5,3,3.5,4]\n",
                "labels2 = ['2.5-3','3-3.5','3.5-4']\n",
                "df['GPAHSCategory'] = pd.cut(df['HSGPA'],bins2,labels = labels2)\n",
                "\n",
                "bins3 = [2.5,3,3.5,4]\n",
                "labels3 = ['2.5-3','3-3.5','3.5-4']\n",
                "df['GPACollegeCategory'] = pd.cut(df['CollegeGPA'],bins3,labels = labels3)\n",
                "df.head(25)"
            ]
        },
        {
            "attachments": {},
            "cell_type": "markdown",
            "metadata": {},
            "source": [
                "## **Scatter Plot**"
            ]
        },
        {
            "cell_type": "code",
            "execution_count": 113,
            "metadata": {},
            "outputs": [],
            "source": [
                "# create a figure and axis\n",
                "fig, ax = plt.subplots()\n",
                "\n",
                "# scatter the sepal_length against the sepal_width\n",
                "ax.scatter(df['ParentIncome'], df['CollegeGPA'])\n",
                "# set a title and labels\n",
                "ax.set_title('Dataset')\n",
                "ax.set_xlabel('ParentIncome')\n",
                "ax.set_ylabel('CollegeGPA')"
            ]
        },
        {
            "cell_type": "code",
            "execution_count": 114,
            "metadata": {},
            "outputs": [],
            "source": [
                "fig, ax = plt.subplots()\n",
                "\n",
                "for i in range (len(df['ParentLvlEducation'])):\n",
                "    ax.scatter(df['ParentLvlEducation'][i], df['YearsToGraduate'][i])\n",
                "ax.set_title('Parent Level of Ed VS Years to Graduate')\n",
                "ax.set_xlabel('Parent Level of Ed')\n",
                "ax.set_ylabel('Years to Graduate')\n",
                ""
            ]
        },
        {
            "attachments": {},
            "cell_type": "markdown",
            "metadata": {},
            "source": [
                "## **Bubble Chart**"
            ]
        },
        {
            "cell_type": "code",
            "execution_count": 115,
            "metadata": {},
            "outputs": [],
            "source": [
                "import seaborn as sns \n",
                "sns.set_context(\"talk\", font_scale=1.1)\n",
                "plt.figure(figsize=(10,6))\n",
                "sns.scatterplot(x = \"CollegeGPA\",\n",
                "                y = \"YearsToGraduate\",\n",
                "                size = \"ParentIncome\",\n",
                "                sizes=(20, 500),\n",
                "                alpha =0.5,\n",
                "                hue=\"ParentIncome\",\n",
                "                data = df)\n",
                "plt.legend(bbox_to_anchor=(1.01, 1), borderaxespad=0, title=\"ParentIncome\")\n",
                "plt.xlabel(\"CollegeGPA\")\n",
                "plt.ylabel(\"YearsToGraduate\")\n",
                "plt.tight_layout()\n",
                "plt.savefig(\"Bubble_plot_Seaborn_scatterplot.png\",\n",
                "                    format = 'png', dpi =150)"
            ]
        },
        {
            "attachments": {},
            "cell_type": "markdown",
            "metadata": {},
            "source": [
                "## **Discussion:**"
            ]
        },
        {
            "attachments": {},
            "cell_type": "markdown",
            "metadata": {},
            "source": [
                "1. Describe the data in words?\n",
                "2. What is important to you about this dataset? What do you want the reader to take-away from looking at this visualization?\n",
                "3. What visualization decisions did you make that are driven by the takeaway message? (scale, colors, mark type, text, lines to show thresholds, annotations, how data was grouped, etc)\n",
                "4. Data is never \"pure\"; it always comes from somewhere. Is there anything you think is important to note about what might not have been captured in the dataset?"
            ]
        },
        {
            "attachments": {},
            "cell_type": "markdown",
            "metadata": {},
            "source": [
                "### Answers:\n",
                "\n",
                "* The data is"
            ]
        },
        {
            "attachments": {},
            "cell_type": "markdown",
            "metadata": {},
            "source": [
                "\n",
                "\n",
                "---\n",
                "\n",
                ""
            ]
        },
        {
            "attachments": {},
            "cell_type": "markdown",
            "metadata": {},
            "source": [
                "# **Project Teamwork Activity: Implementation, Testing \u0026 Training**"
            ]
        },
        {
            "attachments": {},
            "cell_type": "markdown",
            "metadata": {},
            "source": [
                "**Discussion to be added to your notebook:**\n",
                "\n",
                "* How are you evaluating the performance of your implementation?\n",
                "* What is your reasoning for taking this approach?"
            ]
        },
        {
            "attachments": {},
            "cell_type": "markdown",
            "metadata": {},
            "source": [
                "# **Attempted Testing/Traing a Model Pt.1**"
            ]
        },
        {
            "attachments": {},
            "cell_type": "markdown",
            "metadata": {},
            "source": [
                "Notes: \n",
                "* When we train a model we want to only train 80% to use the 20% to test the model in order to see if the model is accurate.\n",
                "* Independent Var: College GPA \u0026 Years to Graduate\n",
                "* Dependent Var: Parent Income"
            ]
        },
        {
            "cell_type": "code",
            "execution_count": 532,
            "metadata": {},
            "outputs": [],
            "source": [
                "df.head()"
            ]
        },
        {
            "cell_type": "code",
            "execution_count": 4,
            "metadata": {},
            "outputs": [],
            "source": [
                "import matplotlib.pyplot as plt\n",
                "%matplotlib inline"
            ]
        },
        {
            "attachments": {},
            "cell_type": "markdown",
            "metadata": {},
            "source": [
                "**College GPA Vs Parent Income**"
            ]
        },
        {
            "cell_type": "code",
            "execution_count": 28,
            "metadata": {},
            "outputs": [],
            "source": [
                "plt.scatter(df['CollegeGPA'], df['ParentIncome'])"
            ]
        },
        {
            "cell_type": "code",
            "execution_count": 117,
            "metadata": {},
            "outputs": [
                {
                    "name": "stdout",
                    "output_type": "stream",
                    "text": "\u003cclass 'pandas.core.frame.DataFrame'\u003e\nRangeIndex: 1000 entries, 0 to 999\nData columns (total 10 columns):\n #   Column              Non-Null Count  Dtype   \n---  ------              --------------  -----   \n 0   ACTscore            1000 non-null   int64   \n 1   SATscore            1000 non-null   int64   \n 2   ParentLvlEducation  1000 non-null   int64   \n 3   ParentIncome        1000 non-null   int64   \n 4   HSGPA               1000 non-null   float64 \n 5   CollegeGPA          1000 non-null   float64 \n 6   YearsToGraduate     1000 non-null   int64   \n 7   IncomeCategory      1000 non-null   category\n 8   GPAHSCategory       1000 non-null   category\n 9   GPACollegeCategory  1000 non-null   category\ndtypes: category(3), float64(2), int64(5)\nmemory usage: 58.2 KB\n"
                },
                {
                    "data": {
                        "text/plain": "\u003cmatplotlib.collections.PathCollection at 0x7f334f692c20\u003e"
                    },
                    "execution_count": 117,
                    "metadata": {},
                    "output_type": "execute_result"
                },
                {
                    "data": {
                        "image/png": "[encoded data removed]",
                        "text/plain": "\u003cFigure size 432x288 with 1 Axes\u003e"
                    },
                    "metadata": {
                        "needs_background": "light"
                    },
                    "output_type": "display_data"
                }
            ],
            "source": [
                "df.info()\n",
                "plt.scatter(df['CollegeGPA'], df['IncomeCategory'])"
            ]
        },
        {
            "attachments": {},
            "cell_type": "markdown",
            "metadata": {},
            "source": [
                "**Years To Graduate Vs Parent Income**"
            ]
        },
        {
            "cell_type": "code",
            "execution_count": 95,
            "metadata": {},
            "outputs": [],
            "source": [
                "plt.scatter(df['YearsToGraduate'], df['ParentIncome'])"
            ]
        },
        {
            "cell_type": "code",
            "execution_count": 96,
            "metadata": {},
            "outputs": [],
            "source": [
                "x = df[['CollegeGPA']] #x = df[['CollegeGPA', 'YearsToGraduate']]\n",
                "y = df['ParentIncome']"
            ]
        },
        {
            "cell_type": "code",
            "execution_count": 451,
            "metadata": {},
            "outputs": [],
            "source": [
                "x #Columns: College Gpa and Years to Graduate"
            ]
        },
        {
            "cell_type": "code",
            "execution_count": 452,
            "metadata": {},
            "outputs": [],
            "source": [
                "y #Column: Parent Income"
            ]
        },
        {
            "cell_type": "code",
            "execution_count": 437,
            "metadata": {},
            "outputs": [],
            "source": [
                "from sklearn.model_selection import train_test_split"
            ]
        },
        {
            "cell_type": "code",
            "execution_count": 453,
            "metadata": {},
            "outputs": [],
            "source": [
                "x_train, x_test, y_train, y_test = train_test_split(x, y, test_size=0.2) #test_size determines data set size for training and testing"
            ]
        },
        {
            "cell_type": "code",
            "execution_count": 439,
            "metadata": {},
            "outputs": [],
            "source": [
                "print(x_train.shape, x_test.shape, y_train.shape, y_test.shape)"
            ]
        },
        {
            "cell_type": "code",
            "execution_count": 454,
            "metadata": {},
            "outputs": [],
            "source": [
                "x_train #Randomly chosen 80% of the data set to train"
            ]
        },
        {
            "cell_type": "code",
            "execution_count": 441,
            "metadata": {},
            "outputs": [],
            "source": [
                "len(x_train) #80% of the dataset"
            ]
        },
        {
            "cell_type": "code",
            "execution_count": 442,
            "metadata": {},
            "outputs": [],
            "source": [
                "len(x_test) #20% of the dataset"
            ]
        },
        {
            "cell_type": "code",
            "execution_count": 455,
            "metadata": {},
            "outputs": [],
            "source": [
                "from sklearn.linear_model import LinearRegression #Linear Regression Model\n",
                "linReg = LinearRegression() #clf: Object of this Class"
            ]
        },
        {
            "cell_type": "code",
            "execution_count": 456,
            "metadata": {},
            "outputs": [],
            "source": [
                "linReg.fit(x_train, y_train) #Trains the model"
            ]
        },
        {
            "cell_type": "code",
            "execution_count": 468,
            "metadata": {},
            "outputs": [],
            "source": [
                "y_pred = linReg.predict(x_test) #Predicts values similar to data set"
            ]
        },
        {
            "cell_type": "code",
            "execution_count": 467,
            "metadata": {},
            "outputs": [],
            "source": [
                "np.mean((y_test - y_pred)**2) #mean squared error, lesser/closer to 0 improves model"
            ]
        },
        {
            "cell_type": "code",
            "execution_count": 466,
            "metadata": {},
            "outputs": [],
            "source": [
                "from sklearn.metrics import mean_squared_error"
            ]
        },
        {
            "cell_type": "code",
            "execution_count": 465,
            "metadata": {},
            "outputs": [],
            "source": [
                "mean_squared_error(y_test, y_pred)"
            ]
        },
        {
            "cell_type": "code",
            "execution_count": 464,
            "metadata": {},
            "outputs": [],
            "source": [
                "linReg.score(x_test, y_test) #checks accuracy of the model: Accuracy is about 23%"
            ]
        },
        {
            "attachments": {},
            "cell_type": "markdown",
            "metadata": {},
            "source": [
                "\n",
                "\n",
                "---\n",
                "\n",
                ""
            ]
        },
        {
            "attachments": {},
            "cell_type": "markdown",
            "metadata": {},
            "source": [
                "## **Hessah Linear Regression Model**"
            ]
        },
        {
            "cell_type": "code",
            "execution_count": 62,
            "metadata": {},
            "outputs": [],
            "source": [
                "x_data = df[['ParentLvlEducation', 'ParentIncome']];\n",
                "y_data = df['CollegeGPA'];\n",
                "\n",
                "from sklearn.model_selection import train_test_split\n",
                "x_train2, x_test2, y_train2, y_test2 = train_test_split(x_data, y_data)"
            ]
        },
        {
            "cell_type": "code",
            "execution_count": 407,
            "metadata": {},
            "outputs": [],
            "source": [
                "from sklearn.linear_model import LinearRegression\n",
                "LRModel = LinearRegression()\n",
                "LRModel.fit(x_train2, y_train2)\n",
                "pd.DataFrame(LRModel.coef_, x_data.columns, columns = ['Coeff'])"
            ]
        },
        {
            "cell_type": "code",
            "execution_count": 335,
            "metadata": {},
            "outputs": [],
            "source": [
                "predictions = LRModel.predict(x_test2)\n",
                "plt.scatter(y_test2, predictions)\n",
                "m, b = np.polyfit(y_test2, predictions, 1)\n",
                "plt.plot(y_test2, m*y_test2+b)"
            ]
        },
        {
            "cell_type": "code",
            "execution_count": 337,
            "metadata": {},
            "outputs": [],
            "source": [
                "from sklearn import metrics\n",
                "metrics.mean_absolute_error(y_test2, predictions)"
            ]
        },
        {
            "cell_type": "code",
            "execution_count": 339,
            "metadata": {},
            "outputs": [],
            "source": [
                "metrics.mean_squared_error(y_test2, predictions)"
            ]
        },
        {
            "cell_type": "code",
            "execution_count": 340,
            "metadata": {},
            "outputs": [],
            "source": [
                "np.sqrt(metrics.mean_squared_error(y_test2, predictions))"
            ]
        },
        {
            "cell_type": "code",
            "execution_count": 344,
            "metadata": {},
            "outputs": [],
            "source": [
                "LRModel.score(x_test2, y_test2) "
            ]
        }
    ]
}
